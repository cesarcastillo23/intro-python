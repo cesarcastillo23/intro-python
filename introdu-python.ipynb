{
 "cells": [
  {
   "cell_type": "code",
   "execution_count": null,
   "metadata": {},
   "outputs": [],
   "source": [
    "def saludar():\n",
    "    nombre = input('Digite su nombre')\n",
    "    print(f'Hola {nombre} como estas ')\n",
    "saludar()\n"
   ]
  },
  {
   "cell_type": "code",
   "execution_count": null,
   "metadata": {},
   "outputs": [],
   "source": [
    "nombre='cesar'"
   ]
  },
  {
   "cell_type": "code",
   "execution_count": null,
   "metadata": {},
   "outputs": [],
   "source": [
    "\n",
    "\n",
    "def saludar_con_parametros(nombre):\n",
    "    print(f'Hola {nombre} sea bienvenid@!!!')\n",
    "    "
   ]
  },
  {
   "cell_type": "code",
   "execution_count": null,
   "metadata": {},
   "outputs": [],
   "source": [
    "saludar_con_parametros(nombre)"
   ]
  },
  {
   "cell_type": "code",
   "execution_count": null,
   "metadata": {},
   "outputs": [],
   "source": [
    "edad =28\n",
    "\n",
    "def verificar_edad(edad):\n",
    "    if edad >=18:\n",
    "        print('Puede conducir')\n",
    "    else:\n",
    "        print('No puede conducir ')\n",
    "\n",
    "verificar_edad(edad)"
   ]
  },
  {
   "cell_type": "code",
   "execution_count": null,
   "metadata": {},
   "outputs": [],
   "source": [
    "def edad_para_conducir():\n",
    "    edad=input('Digite su edad')\n",
    "    edad=int(edad)\n",
    "    if edad >=18:\n",
    "        print('Puede conducir')\n",
    "    else:\n",
    "        print('No puede conducir ')\n",
    "\n",
    "edad_para_conducir()\n"
   ]
  },
  {
   "cell_type": "code",
   "execution_count": null,
   "metadata": {},
   "outputs": [],
   "source": [
    "edades=[18,5,45,87,65,10]\n",
    "edades[0:8]"
   ]
  },
  {
   "cell_type": "code",
   "execution_count": null,
   "metadata": {},
   "outputs": [],
   "source": [
    "\n",
    "\n",
    "edades=[18,5,45,87,65,10]\n",
    "\n",
    "def edad_para_conducir(edades):\n",
    "    if edad >=18:\n",
    "        print('Puede conducir')\n",
    "    else:\n",
    "        print('No puede conducir ')\n",
    "\n",
    "for edad in edades:\n",
    "    edad_para_conducir(edades)\n",
    "\n"
   ]
  },
  {
   "cell_type": "code",
   "execution_count": null,
   "metadata": {},
   "outputs": [],
   "source": [
    "edades=[18,5,45,87,65,10]\n",
    "numeros=[57,4,5,4,120,2,54,44,5,4,45]\n",
    "\n",
    "def edad_para_conducir2(edades):\n",
    "  for edad in edades:\n",
    "      if edad >=18:\n",
    "         print('Puede conducir')\n",
    "      else:\n",
    "          print('No puede conducir ')\n",
    "\n",
    "edad_para_conducir2(numeros)"
   ]
  },
  {
   "cell_type": "code",
   "execution_count": null,
   "metadata": {},
   "outputs": [],
   "source": [
    "verificaciones=[]\n",
    "edades=[18,5,45,87,65,10]\n",
    "\n",
    "def edad_para_conducir3(verificaciones,edades):\n",
    "  for edad in edades:\n",
    "        if edad >=18:\n",
    "          verificaciones.append(True)\n",
    "        else:\n",
    "          verificaciones.append(False)\n",
    "  for verificacion in verificaciones:\n",
    "      if verificacion == True:\n",
    "            print('Puede conducir')\n",
    "      else:\n",
    "          print('No puede conducir ')\n",
    "edad_para_conducir3(verificaciones,edades)\n",
    "\n"
   ]
  },
  {
   "cell_type": "code",
   "execution_count": null,
   "metadata": {},
   "outputs": [],
   "source": [
    "lista_mixta=['Mariana',25,True,'Mexico',\"%$&#%/&$%&\"]\n",
    "lista_mixta\n",
    "for elemento in lista_mixta:\n",
    "    print(f'El elemento {elemento} de la lista es del tipo',':',type(elemento))"
   ]
  },
  {
   "attachments": {},
   "cell_type": "markdown",
   "metadata": {},
   "source": [
    "## importando una biblioteca"
   ]
  },
  {
   "cell_type": "code",
   "execution_count": 3,
   "metadata": {},
   "outputs": [],
   "source": [
    "from random import randrange, seed\n",
    "\n"
   ]
  },
  {
   "cell_type": "code",
   "execution_count": 31,
   "metadata": {},
   "outputs": [
    {
     "data": {
      "text/plain": [
       "[3, 5, 6, 2, 3, 0]"
      ]
     },
     "execution_count": 31,
     "metadata": {},
     "output_type": "execute_result"
    }
   ],
   "source": [
    "resultado=[]\n",
    "seed(8)\n",
    "for notas in range(6):\n",
    "  resultado.append(randrange(0,11))\n",
    "resultado"
   ]
  },
  {
   "cell_type": "code",
   "execution_count": 32,
   "metadata": {},
   "outputs": [],
   "source": [
    "import matplotlib.pyplot as plt"
   ]
  },
  {
   "cell_type": "code",
   "execution_count": 33,
   "metadata": {},
   "outputs": [
    {
     "data": {
      "text/plain": [
       "[1, 2, 3, 4, 5, 6]"
      ]
     },
     "execution_count": 33,
     "metadata": {},
     "output_type": "execute_result"
    }
   ],
   "source": [
    "list(range(1,7))"
   ]
  },
  {
   "cell_type": "code",
   "execution_count": 43,
   "metadata": {},
   "outputs": [
    {
     "data": {
      "image/png": "[encoded data removed]",
      "text/plain": [
       "<Figure size 432x288 with 1 Axes>"
      ]
     },
     "metadata": {
      "needs_background": "light"
     },
     "output_type": "display_data"
    }
   ],
   "source": [
    "x =list(range(1,7))\n",
    "y= resultado\n",
    "\n",
    "plt.plot(x,y,marker='o')\n",
    "plt.title('Grafico de notas de matematicas')\n",
    "plt.xlabel('Pruebas')\n",
    "plt.ylabel('notas')\n",
    "plt.show()"
   ]
  },
  {
   "cell_type": "code",
   "execution_count": null,
   "metadata": {},
   "outputs": [],
   "source": []
  }
 ],
 "metadata": {
  "kernelspec": {
   "display_name": "Python 3",
   "language": "python",
   "name": "python3"
  },
  "language_info": {
   "codemirror_mode": {
    "name": "ipython",
    "version": 3
   },
   "file_extension": ".py",
   "mimetype": "text/x-python",
   "name": "python",
   "nbconvert_exporter": "python",
   "pygments_lexer": "ipython3",
   "version": "3.10.2"
  },
  "orig_nbformat": 4
 },
 "nbformat": 4,
 "nbformat_minor": 2
}
